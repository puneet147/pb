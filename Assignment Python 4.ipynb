{
 "cells": [
  {
   "cell_type": "markdown",
   "metadata": {},
   "source": [
    "1.1 Write a Python Program(with class concepts) to find the area of the triangle using the below\n",
    "formula.\n",
    "area = (s*(s-a)*(s-b)*(s-c)) ** 0.5\n",
    "Function to take the length of the sides of triangle from user should be defined in the parent\n",
    "class and function to calculate the area should be defined in subclass."
   ]
  },
  {
   "cell_type": "code",
   "execution_count": 10,
   "metadata": {},
   "outputs": [
    {
     "name": "stdout",
     "output_type": "stream",
     "text": [
      "Enter value side 1 =5\n",
      "Enter value of side2 = 7\n",
      "Enter value of side3 = 9\n",
      " area: 17.41228014936585\n"
     ]
    }
   ],
   "source": [
    "class Triangle:\n",
    "    def __init__(self,side1,side2,side3):\n",
    "        self.side1=float(side1)\n",
    "        self.side2= float(side2)\n",
    "        self.side3 = float(side3)\n",
    "           \n",
    "    def area(self):\n",
    "        s = (self.side1 + self.side2 + self.side3) / 2\n",
    "        return (s*(s-self.side1)*(s-self.side2)*(s-self.side3)) ** 0.5\n",
    "    \n",
    "side1 = input (\"Enter value side 1 =\")\n",
    "side2 = input (\"Enter value of side2 = \")\n",
    "side3 = input (\"Enter value of side3 = \")\n",
    "\n",
    "t = Triangle(side1,side2,side3)\n",
    "\n",
    "print (\" area: {}\".format(t.area()))\n",
    "    "
   ]
  },
  {
   "cell_type": "markdown",
   "metadata": {},
   "source": [
    "1.2 Write a function filter_long_words() that takes a list of words and an integer n and returns\n",
    "the list of words that are longer than n."
   ]
  },
  {
   "cell_type": "code",
   "execution_count": 150,
   "metadata": {},
   "outputs": [
    {
     "name": "stdout",
     "output_type": "stream",
     "text": [
      "['Hello', 'Puneet', 'Sharma']\n"
     ]
    }
   ],
   "source": [
    "def word1(n,a):  \n",
    "    word2 = []  \n",
    "    t = a.split(\" \")  \n",
    "    for x in t:  \n",
    "        if len(x) > n:  \n",
    "            word2.append(x)  \n",
    "    return word2  \n",
    "a= ('Hello my name is Puneet Sharma')\n",
    "\n",
    "print(word1(4,a) ) "
   ]
  },
  {
   "cell_type": "markdown",
   "metadata": {},
   "source": [
    "2.1 Write a Python program using function concept that maps list of words into a list of integers\n",
    "representing the lengths of the corresponding words.\n",
    "Hint: If a list [ ab,cde,erty] is passed on to the python function output should come as [2,3,4]\n",
    "Here 2,3 and 4 are the lengths of the words in the list."
   ]
  },
  {
   "cell_type": "code",
   "execution_count": 139,
   "metadata": {},
   "outputs": [
    {
     "data": {
      "text/plain": [
       "[2, 3, 4]"
      ]
     },
     "execution_count": 139,
     "metadata": {},
     "output_type": "execute_result"
    }
   ],
   "source": [
    "def length(m):\n",
    "    return list(map(len, m))\n",
    "\n",
    "m =['ab','cde','erty']\n",
    "\n",
    "length(m)\n"
   ]
  },
  {
   "cell_type": "markdown",
   "metadata": {},
   "source": [
    "2.2 Write a Python function which takes a character (i.e. a string of length 1) and returns True if\n",
    "it is a vowel, False otherwise."
   ]
  },
  {
   "cell_type": "code",
   "execution_count": 135,
   "metadata": {},
   "outputs": [],
   "source": [
    "def is_vowel(m):\n",
    "    vowels =('a','e','i','o','u')\n",
    "    for i in vowels:\n",
    "        if m == i :\n",
    "            print ('True')\n",
    "            break\n",
    "    else:\n",
    "        print('False')\n",
    "    \n"
   ]
  },
  {
   "cell_type": "code",
   "execution_count": 136,
   "metadata": {},
   "outputs": [
    {
     "name": "stdout",
     "output_type": "stream",
     "text": [
      "True\n"
     ]
    }
   ],
   "source": [
    "m = 'a'\n",
    "\n",
    "is_vowel(m)"
   ]
  },
  {
   "cell_type": "code",
   "execution_count": 137,
   "metadata": {},
   "outputs": [
    {
     "name": "stdout",
     "output_type": "stream",
     "text": [
      "False\n"
     ]
    }
   ],
   "source": [
    "m ='b'\n",
    "is_vowel(m)"
   ]
  }
 ],
 "metadata": {
  "kernelspec": {
   "display_name": "Python 3",
   "language": "python",
   "name": "python3"
  },
  "language_info": {
   "codemirror_mode": {
    "name": "ipython",
    "version": 3
   },
   "file_extension": ".py",
   "mimetype": "text/x-python",
   "name": "python",
   "nbconvert_exporter": "python",
   "pygments_lexer": "ipython3",
   "version": "3.7.6"
  }
 },
 "nbformat": 4,
 "nbformat_minor": 4
}
